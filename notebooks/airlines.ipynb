{
 "cells": [
  {
   "cell_type": "markdown",
   "metadata": {},
   "source": [
    "# Airlines dataset"
   ]
  },
  {
   "cell_type": "code",
   "execution_count": 1,
   "metadata": {},
   "outputs": [],
   "source": [
    "%load_ext autoreload\n",
    "%autoreload 2"
   ]
  },
  {
   "cell_type": "code",
   "execution_count": 2,
   "metadata": {},
   "outputs": [],
   "source": [
    "!export XLA_PYTHON_CLIENT_MEM_FRACTION=.1"
   ]
  },
  {
   "cell_type": "code",
   "execution_count": 3,
   "metadata": {},
   "outputs": [],
   "source": [
    "# from jax.config import config\n",
    "# config.update(\"jax_enable_x64\", True)"
   ]
  },
  {
   "cell_type": "markdown",
   "metadata": {},
   "source": [
    "## Load Airlines data"
   ]
  },
  {
   "cell_type": "code",
   "execution_count": 4,
   "metadata": {},
   "outputs": [],
   "source": [
    "import pandas as pd\n",
    "from pathlib import Path"
   ]
  },
  {
   "cell_type": "code",
   "execution_count": 5,
   "metadata": {},
   "outputs": [],
   "source": [
    "data_path = Path(\"../data/airline.csv\")\n",
    "df = pd.read_csv(data_path)"
   ]
  },
  {
   "cell_type": "code",
   "execution_count": 6,
   "metadata": {},
   "outputs": [
    {
     "data": {
      "text/html": [
       "<div>\n",
       "<style scoped>\n",
       "    .dataframe tbody tr th:only-of-type {\n",
       "        vertical-align: middle;\n",
       "    }\n",
       "\n",
       "    .dataframe tbody tr th {\n",
       "        vertical-align: top;\n",
       "    }\n",
       "\n",
       "    .dataframe thead th {\n",
       "        text-align: right;\n",
       "    }\n",
       "</style>\n",
       "<table border=\"1\" class=\"dataframe\">\n",
       "  <thead>\n",
       "    <tr style=\"text-align: right;\">\n",
       "      <th></th>\n",
       "      <th>Month</th>\n",
       "      <th>DayofMonth</th>\n",
       "      <th>DayOfWeek</th>\n",
       "      <th>DepTime</th>\n",
       "      <th>ArrTime</th>\n",
       "      <th>AirTime</th>\n",
       "      <th>Distance</th>\n",
       "      <th>plane_age</th>\n",
       "      <th>ArrDelay</th>\n",
       "    </tr>\n",
       "  </thead>\n",
       "  <tbody>\n",
       "    <tr>\n",
       "      <th>0</th>\n",
       "      <td>1</td>\n",
       "      <td>3</td>\n",
       "      <td>4</td>\n",
       "      <td>1203</td>\n",
       "      <td>1331</td>\n",
       "      <td>116</td>\n",
       "      <td>810</td>\n",
       "      <td>10</td>\n",
       "      <td>-14</td>\n",
       "    </tr>\n",
       "    <tr>\n",
       "      <th>1</th>\n",
       "      <td>1</td>\n",
       "      <td>3</td>\n",
       "      <td>4</td>\n",
       "      <td>454</td>\n",
       "      <td>598</td>\n",
       "      <td>314</td>\n",
       "      <td>2283</td>\n",
       "      <td>10</td>\n",
       "      <td>-22</td>\n",
       "    </tr>\n",
       "    <tr>\n",
       "      <th>2</th>\n",
       "      <td>1</td>\n",
       "      <td>3</td>\n",
       "      <td>4</td>\n",
       "      <td>652</td>\n",
       "      <td>963</td>\n",
       "      <td>175</td>\n",
       "      <td>1521</td>\n",
       "      <td>10</td>\n",
       "      <td>-17</td>\n",
       "    </tr>\n",
       "    <tr>\n",
       "      <th>3</th>\n",
       "      <td>1</td>\n",
       "      <td>3</td>\n",
       "      <td>4</td>\n",
       "      <td>1013</td>\n",
       "      <td>1172</td>\n",
       "      <td>79</td>\n",
       "      <td>577</td>\n",
       "      <td>10</td>\n",
       "      <td>2</td>\n",
       "    </tr>\n",
       "    <tr>\n",
       "      <th>4</th>\n",
       "      <td>1</td>\n",
       "      <td>4</td>\n",
       "      <td>5</td>\n",
       "      <td>818</td>\n",
       "      <td>880</td>\n",
       "      <td>48</td>\n",
       "      <td>239</td>\n",
       "      <td>10</td>\n",
       "      <td>10</td>\n",
       "    </tr>\n",
       "  </tbody>\n",
       "</table>\n",
       "</div>"
      ],
      "text/plain": [
       "   Month  DayofMonth  DayOfWeek  DepTime  ArrTime  AirTime  Distance  \\\n",
       "0      1           3          4     1203     1331      116       810   \n",
       "1      1           3          4      454      598      314      2283   \n",
       "2      1           3          4      652      963      175      1521   \n",
       "3      1           3          4     1013     1172       79       577   \n",
       "4      1           4          5      818      880       48       239   \n",
       "\n",
       "   plane_age  ArrDelay  \n",
       "0         10       -14  \n",
       "1         10       -22  \n",
       "2         10       -17  \n",
       "3         10         2  \n",
       "4         10        10  "
      ]
     },
     "execution_count": 6,
     "metadata": {},
     "output_type": "execute_result"
    }
   ],
   "source": [
    "df.head()"
   ]
  },
  {
   "cell_type": "code",
   "execution_count": 7,
   "metadata": {},
   "outputs": [],
   "source": [
    "df['ArrDelay'] = (df['ArrDelay'] - df['ArrDelay'].mean()) / df['ArrDelay'].std()"
   ]
  },
  {
   "cell_type": "code",
   "execution_count": 8,
   "metadata": {},
   "outputs": [],
   "source": [
    "feature_names = ['Month', 'DayofMonth', 'DayOfWeek', 'DepTime', 'ArrTime', 'AirTime', 'Distance', 'plane_age']\n",
    "x = df[feature_names].to_numpy()\n",
    "\n",
    "label_name = ['ArrDelay']\n",
    "y = df[label_name].to_numpy()"
   ]
  },
  {
   "cell_type": "code",
   "execution_count": 9,
   "metadata": {},
   "outputs": [],
   "source": [
    "x = (x - x.min(axis=0)) / (x.max(axis=0) - x.min(axis=0))"
   ]
  },
  {
   "cell_type": "markdown",
   "metadata": {},
   "source": [
    "### Data to JAX array"
   ]
  },
  {
   "cell_type": "code",
   "execution_count": 10,
   "metadata": {},
   "outputs": [
    {
     "name": "stderr",
     "output_type": "stream",
     "text": [
      "WARNING:absl:No GPU/TPU found, falling back to CPU. (Set TF_CPP_MIN_LOG_LEVEL=0 and rerun for more info.)\n"
     ]
    }
   ],
   "source": [
    "from jax import numpy as jnp\n",
    "x = jnp.array(x)\n",
    "y = jnp.array(y)"
   ]
  },
  {
   "cell_type": "code",
   "execution_count": 11,
   "metadata": {},
   "outputs": [],
   "source": [
    "from jax import random\n",
    "key = random.PRNGKey(42)"
   ]
  },
  {
   "cell_type": "markdown",
   "metadata": {},
   "source": [
    "## Tensor Kernel Machine"
   ]
  },
  {
   "cell_type": "markdown",
   "metadata": {},
   "source": [
    "### Polynomial"
   ]
  },
  {
   "cell_type": "code",
   "execution_count": 32,
   "metadata": {},
   "outputs": [],
   "source": [
    "from tkm.model import fit\n",
    "from jax import jit\n",
    "from tkm.features import polynomial\n",
    "\n",
    "fit_compiled = jit(fit)\n",
    "\n",
    "W,loss = fit(key,x,y,M=4,R=2,feature_map=polynomial,numberSweeps=5)\n",
    "\n",
    "# %timeit W = fit(key,x,y, feature_map=polynomial)\n",
    "# %timeit W = fit_compiled(key, x, y, feature_map=polynomial)"
   ]
  },
  {
   "cell_type": "code",
   "execution_count": 33,
   "metadata": {},
   "outputs": [
    {
     "data": {
      "text/plain": [
       "[5887081.5,\n",
       " 5868684.0,\n",
       " 5852947.5,\n",
       " 5786518.5,\n",
       " 5754037.0,\n",
       " 5749995.0,\n",
       " 5741692.5,\n",
       " 5725896.5,\n",
       " 5718140.0,\n",
       " 5708719.0,\n",
       " 5704233.0,\n",
       " 5619731.0,\n",
       " 5542762.5,\n",
       " 5521153.0,\n",
       " 5634999.0,\n",
       " 5672474.5,\n",
       " 5545400.0,\n",
       " 5532472.0,\n",
       " 5531686.0,\n",
       " 5464710.0,\n",
       " 5451585.0,\n",
       " 5438640.5,\n",
       " 5431995.0,\n",
       " 5403375.0,\n",
       " 5401704.5,\n",
       " 5400475.5,\n",
       " 5399960.0,\n",
       " 5397021.5,\n",
       " 5389956.0,\n",
       " 5387088.5,\n",
       " 5378288.0,\n",
       " 5377906.0,\n",
       " 5375984.5,\n",
       " 5375589.0,\n",
       " 5376113.0,\n",
       " 5365985.5,\n",
       " 5356519.5,\n",
       " 5352387.0,\n",
       " 5346017.0,\n",
       " 5355945.0,\n",
       " 5343421.5,\n",
       " 5343146.0,\n",
       " 5345951.0,\n",
       " 5335261.0,\n",
       " 5326116.0,\n",
       " 5321030.5,\n",
       " 5316943.0,\n",
       " 5322492.0,\n",
       " 5313683.5,\n",
       " 5312603.0,\n",
       " 5313831.0,\n",
       " 5306247.0,\n",
       " 5299004.0,\n",
       " 5291290.0,\n",
       " 5291153.5,\n",
       " 5292189.5,\n",
       " 5286456.0,\n",
       " 5285015.0,\n",
       " 5285916.0,\n",
       " 5283170.0,\n",
       " 5281379.5,\n",
       " 5272585.0,\n",
       " 5275935.5,\n",
       " 5273724.0,\n",
       " 5270499.5,\n",
       " 5268933.5,\n",
       " 5269916.0,\n",
       " 5269837.5,\n",
       " 5270604.5,\n",
       " 5262048.0,\n",
       " 5265740.5,\n",
       " 5264445.0,\n",
       " 5260804.5,\n",
       " 5259120.5,\n",
       " 5260269.5,\n",
       " 5261099.0,\n",
       " 5262292.5,\n",
       " 5254369.5,\n",
       " 5257309.0,\n",
       " 5256725.5]"
      ]
     },
     "execution_count": 33,
     "metadata": {},
     "output_type": "execute_result"
    }
   ],
   "source": [
    "loss"
   ]
  },
  {
   "cell_type": "markdown",
   "metadata": {},
   "source": [
    "#### Predict"
   ]
  },
  {
   "cell_type": "code",
   "execution_count": 34,
   "metadata": {},
   "outputs": [
    {
     "data": {
      "text/plain": [
       "DeviceArray(2291.404, dtype=float32)"
      ]
     },
     "execution_count": 34,
     "metadata": {},
     "output_type": "execute_result"
    }
   ],
   "source": [
    "from tkm.model import predict\n",
    "from tkm.metrics import rmse\n",
    "predict_compiled = jit(predict)\n",
    "\n",
    "\n",
    "\n",
    "y_hat = predict(x, W, feature_map=polynomial,M=4,R=2)\n",
    "err = rmse(y.squeeze(), y_hat)\n",
    "err\n",
    "\n",
    "# %timeit predict(x, W, feature_map=polynomial)\n",
    "# %timeit predict_compiled(x,W, feature_map=polynomial)"
   ]
  },
  {
   "cell_type": "code",
   "execution_count": 27,
   "metadata": {},
   "outputs": [],
   "source": [
    "# from jax import jit\n",
    "# from tkm.model import predict_vmap\n",
    "# predict_vmap_compiled = jit(predict_vmap)\n",
    "\n",
    "# %timeit y_hat = predict_vmap(x, W, feature_map=polynomial)\n",
    "# %timeit predict_vmap_compiled(x,W)"
   ]
  },
  {
   "cell_type": "markdown",
   "metadata": {},
   "source": [
    "#### fourier features"
   ]
  },
  {
   "cell_type": "code",
   "execution_count": 20,
   "metadata": {},
   "outputs": [
    {
     "data": {
      "text/plain": [
       "1.6865075851521897e-05"
      ]
     },
     "execution_count": 20,
     "metadata": {},
     "output_type": "execute_result"
    }
   ],
   "source": [
    "100/x.shape[0]"
   ]
  },
  {
   "cell_type": "code",
   "execution_count": 23,
   "metadata": {},
   "outputs": [],
   "source": [
    "from tkm.model import fit\n",
    "from tkm.features import fourier\n",
    "from functools import partial\n",
    "from jax import jit\n",
    "\n",
    "fit_fourier = partial(fit, feature_map=fourier, M=40, R=5, lengthscale=x.std(axis=0).mean(), l=100/x.shape[0])\n",
    "fit_compiled = jit(fit_fourier)"
   ]
  },
  {
   "cell_type": "code",
   "execution_count": 24,
   "metadata": {},
   "outputs": [],
   "source": [
    "W = fit_compiled(key,x,y)"
   ]
  },
  {
   "cell_type": "code",
   "execution_count": 1,
   "metadata": {},
   "outputs": [
    {
     "ename": "NameError",
     "evalue": "name 'fit_compiled' is not defined",
     "output_type": "error",
     "traceback": [
      "\u001b[0;31m---------------------------------------------------------------------------\u001b[0m",
      "\u001b[0;31mNameError\u001b[0m                                 Traceback (most recent call last)",
      "\u001b[1;32m/Users/jetze/gitProjects/phd/tensorized_kernel_methods/notebooks/airlines.ipynb Cell 2'\u001b[0m in \u001b[0;36m<cell line: 1>\u001b[0;34m()\u001b[0m\n\u001b[0;32m----> <a href='vscode-notebook-cell:/Users/jetze/gitProjects/phd/tensorized_kernel_methods/notebooks/airlines.ipynb#ch0000001?line=0'>1</a>\u001b[0m get_ipython()\u001b[39m.\u001b[39;49mrun_line_magic(\u001b[39m'\u001b[39;49m\u001b[39mtimeit\u001b[39;49m\u001b[39m'\u001b[39;49m, \u001b[39m'\u001b[39;49m\u001b[39mfit_compiled(key,x,y).block_until_ready()\u001b[39;49m\u001b[39m'\u001b[39;49m)\n",
      "File \u001b[0;32m~/gitProjects/phd/tensorized_kernel_methods/venv/lib/python3.9/site-packages/IPython/core/interactiveshell.py:2285\u001b[0m, in \u001b[0;36mInteractiveShell.run_line_magic\u001b[0;34m(self, magic_name, line, _stack_depth)\u001b[0m\n\u001b[1;32m   2283\u001b[0m     kwargs[\u001b[39m'\u001b[39m\u001b[39mlocal_ns\u001b[39m\u001b[39m'\u001b[39m] \u001b[39m=\u001b[39m \u001b[39mself\u001b[39m\u001b[39m.\u001b[39mget_local_scope(stack_depth)\n\u001b[1;32m   2284\u001b[0m \u001b[39mwith\u001b[39;00m \u001b[39mself\u001b[39m\u001b[39m.\u001b[39mbuiltin_trap:\n\u001b[0;32m-> 2285\u001b[0m     result \u001b[39m=\u001b[39m fn(\u001b[39m*\u001b[39;49margs, \u001b[39m*\u001b[39;49m\u001b[39m*\u001b[39;49mkwargs)\n\u001b[1;32m   2286\u001b[0m \u001b[39mreturn\u001b[39;00m result\n",
      "File \u001b[0;32m~/gitProjects/phd/tensorized_kernel_methods/venv/lib/python3.9/site-packages/IPython/core/magics/execution.py:1162\u001b[0m, in \u001b[0;36mExecutionMagics.timeit\u001b[0;34m(self, line, cell, local_ns)\u001b[0m\n\u001b[1;32m   1160\u001b[0m \u001b[39mfor\u001b[39;00m index \u001b[39min\u001b[39;00m \u001b[39mrange\u001b[39m(\u001b[39m0\u001b[39m, \u001b[39m10\u001b[39m):\n\u001b[1;32m   1161\u001b[0m     number \u001b[39m=\u001b[39m \u001b[39m10\u001b[39m \u001b[39m*\u001b[39m\u001b[39m*\u001b[39m index\n\u001b[0;32m-> 1162\u001b[0m     time_number \u001b[39m=\u001b[39m timer\u001b[39m.\u001b[39;49mtimeit(number)\n\u001b[1;32m   1163\u001b[0m     \u001b[39mif\u001b[39;00m time_number \u001b[39m>\u001b[39m\u001b[39m=\u001b[39m \u001b[39m0.2\u001b[39m:\n\u001b[1;32m   1164\u001b[0m         \u001b[39mbreak\u001b[39;00m\n",
      "File \u001b[0;32m~/gitProjects/phd/tensorized_kernel_methods/venv/lib/python3.9/site-packages/IPython/core/magics/execution.py:156\u001b[0m, in \u001b[0;36mTimer.timeit\u001b[0;34m(self, number)\u001b[0m\n\u001b[1;32m    154\u001b[0m gc\u001b[39m.\u001b[39mdisable()\n\u001b[1;32m    155\u001b[0m \u001b[39mtry\u001b[39;00m:\n\u001b[0;32m--> 156\u001b[0m     timing \u001b[39m=\u001b[39m \u001b[39mself\u001b[39;49m\u001b[39m.\u001b[39;49minner(it, \u001b[39mself\u001b[39;49m\u001b[39m.\u001b[39;49mtimer)\n\u001b[1;32m    157\u001b[0m \u001b[39mfinally\u001b[39;00m:\n\u001b[1;32m    158\u001b[0m     \u001b[39mif\u001b[39;00m gcold:\n",
      "File \u001b[0;32m<magic-timeit>:1\u001b[0m, in \u001b[0;36minner\u001b[0;34m(_it, _timer)\u001b[0m\n",
      "\u001b[0;31mNameError\u001b[0m: name 'fit_compiled' is not defined"
     ]
    }
   ],
   "source": [
    "%timeit fit_compiled(key,x,y).block_until_ready()"
   ]
  },
  {
   "cell_type": "code",
   "execution_count": null,
   "metadata": {},
   "outputs": [],
   "source": [
    "from tkm.model import predict_vmap\n",
    "predict_vmap_poly = partial(predict_vmap, feature_map=fourier, M=40, R=5, lengthscale=x.std(axis=0).mean())\n",
    "predict_vmap_compiled = jit(predict_vmap_poly)"
   ]
  },
  {
   "cell_type": "code",
   "execution_count": null,
   "metadata": {},
   "outputs": [],
   "source": [
    "y_hat = predict_vmap_compiled(x,W).block_until_ready()\n",
    "err = rmse(y.squeeze(), y_hat)\n",
    "print(err)"
   ]
  },
  {
   "cell_type": "code",
   "execution_count": null,
   "metadata": {},
   "outputs": [],
   "source": [
    "%timeit predict_vmap_compiled(x,W).block_until_ready()"
   ]
  }
 ],
 "metadata": {
  "interpreter": {
   "hash": "52117102878ae16c1c4b5e8e87a1ad64fac10701e1a16851a8bd870ef4e85973"
  },
  "kernelspec": {
   "display_name": "Python 3.9.5 ('venv': venv)",
   "language": "python",
   "name": "python3"
  },
  "language_info": {
   "codemirror_mode": {
    "name": "ipython",
    "version": 3
   },
   "file_extension": ".py",
   "mimetype": "text/x-python",
   "name": "python",
   "nbconvert_exporter": "python",
   "pygments_lexer": "ipython3",
   "version": "3.9.5"
  },
  "orig_nbformat": 4
 },
 "nbformat": 4,
 "nbformat_minor": 2
}
