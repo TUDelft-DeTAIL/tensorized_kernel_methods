{
 "cells": [
  {
   "cell_type": "code",
   "execution_count": 1,
   "metadata": {},
   "outputs": [],
   "source": [
    "import jax\n",
    "import jax.numpy as jnp\n",
    "import jmp"
   ]
  },
  {
   "cell_type": "code",
   "execution_count": 2,
   "metadata": {},
   "outputs": [],
   "source": [
    "half = jnp.float16  # On TPU this should be jnp.bfloat16.\n",
    "full = jnp.float32"
   ]
  },
  {
   "cell_type": "code",
   "execution_count": 3,
   "metadata": {},
   "outputs": [],
   "source": [
    "my_policy = jmp.Policy(\n",
    "    compute_dtype=half,\n",
    "    param_dtype=full,\n",
    "    output_dtype=half\n",
    ")\n",
    "\n",
    "# alternative syntax\n",
    "# my_policy = jmp.get_policy(\"params=float32,compute=float16,output=float32\")"
   ]
  },
  {
   "cell_type": "code",
   "execution_count": 7,
   "metadata": {},
   "outputs": [],
   "source": [
    "# def layer(params, x):\n",
    "#   params, x = my_policy.cast_to_compute((params, x))\n",
    "#   w, b = params\n",
    "#   y = x @ w + b\n",
    "#   return my_policy.cast_to_output(y)\n",
    "\n",
    "# params = {\"w\": jnp.ones([], dtype=my_policy.param_dtype)}\n",
    "# y = layer(params, x)\n",
    "# assert y.dtype == half"
   ]
  },
  {
   "cell_type": "code",
   "execution_count": 11,
   "metadata": {},
   "outputs": [],
   "source": [
    "from functools import partial\n",
    "from jax import random\n",
    "key = random.PRNGKey(42)\n",
    "\n",
    "N = 10000\n",
    "x = random.normal(key, shape=(N,N))\n",
    "w = random.normal(key, shape=(N,N))\n",
    "\n",
    "def dot(x,w, my_policy):\n",
    "    x,w = my_policy.cast_to_compute((x,w))\n",
    "    y = x @ w\n",
    "    return my_policy.cast_to_output(y)\n",
    "\n",
    "from jax import jit \n",
    "dot_compiled = jit(partial(dot,my_policy=my_policy))"
   ]
  },
  {
   "cell_type": "code",
   "execution_count": 12,
   "metadata": {},
   "outputs": [
    {
     "name": "stdout",
     "output_type": "stream",
     "text": [
      "223 µs ± 6.36 µs per loop (mean ± std. dev. of 7 runs, 1,000 loops each)\n"
     ]
    }
   ],
   "source": [
    "%timeit y = dot(x,w,my_policy)"
   ]
  },
  {
   "cell_type": "code",
   "execution_count": 13,
   "metadata": {},
   "outputs": [
    {
     "name": "stdout",
     "output_type": "stream",
     "text": [
      "74.4 µs ± 545 ns per loop (mean ± std. dev. of 7 runs, 10,000 loops each)\n"
     ]
    }
   ],
   "source": [
    "%timeit y = dot_compiled(x,w)"
   ]
  },
  {
   "cell_type": "code",
   "execution_count": null,
   "metadata": {},
   "outputs": [],
   "source": []
  },
  {
   "cell_type": "code",
   "execution_count": 19,
   "metadata": {},
   "outputs": [],
   "source": [
    "float16 = jmp.get_policy(\"float16\")  # Everything in f16.\n",
    "half = jmp.get_policy(\"half\")        # Everything in half (f16 or bf16).\n",
    "float32 = jmp.get_policy(\"float32\")"
   ]
  },
  {
   "cell_type": "code",
   "execution_count": 15,
   "metadata": {},
   "outputs": [],
   "source": [
    "dot_compiled_half = jit(partial(dot,my_policy=float16))"
   ]
  },
  {
   "cell_type": "code",
   "execution_count": 16,
   "metadata": {},
   "outputs": [
    {
     "name": "stdout",
     "output_type": "stream",
     "text": [
      "73.2 µs ± 2.42 µs per loop (mean ± std. dev. of 7 runs, 10,000 loops each)\n"
     ]
    }
   ],
   "source": [
    "%timeit y = dot_compiled_half(x,w)"
   ]
  },
  {
   "cell_type": "code",
   "execution_count": 20,
   "metadata": {},
   "outputs": [],
   "source": [
    "dot_compiled_full = jit(partial(dot,my_policy=float32))"
   ]
  },
  {
   "cell_type": "code",
   "execution_count": 21,
   "metadata": {},
   "outputs": [
    {
     "name": "stdout",
     "output_type": "stream",
     "text": [
      "205 µs ± 6.39 µs per loop (mean ± std. dev. of 7 runs, 1,000 loops each)\n"
     ]
    }
   ],
   "source": [
    "%timeit y = dot_compiled_full(x,w)"
   ]
  },
  {
   "cell_type": "code",
   "execution_count": 22,
   "metadata": {},
   "outputs": [
    {
     "name": "stdout",
     "output_type": "stream",
     "text": [
      "49.7 µs ± 764 ns per loop (mean ± std. dev. of 7 runs, 10,000 loops each)\n"
     ]
    }
   ],
   "source": [
    "x_half, w_half = half.cast_to_param((x,w))\n",
    "%timeit dot_compiled_half(x_half,w_half)"
   ]
  },
  {
   "cell_type": "code",
   "execution_count": 23,
   "metadata": {},
   "outputs": [
    {
     "name": "stdout",
     "output_type": "stream",
     "text": [
      "233 µs ± 7.07 µs per loop (mean ± std. dev. of 7 runs, 1,000 loops each)\n"
     ]
    }
   ],
   "source": [
    "%timeit y = dot_compiled_full(x_half,w_half)"
   ]
  },
  {
   "cell_type": "code",
   "execution_count": null,
   "metadata": {},
   "outputs": [],
   "source": []
  }
 ],
 "metadata": {
  "kernelspec": {
   "display_name": "Python 3.8.10 ('venv': venv)",
   "language": "python",
   "name": "python3"
  },
  "language_info": {
   "codemirror_mode": {
    "name": "ipython",
    "version": 3
   },
   "file_extension": ".py",
   "mimetype": "text/x-python",
   "name": "python",
   "nbconvert_exporter": "python",
   "pygments_lexer": "ipython3",
   "version": "3.8.10"
  },
  "orig_nbformat": 4,
  "vscode": {
   "interpreter": {
    "hash": "d3287febf238b10938fe1246dc666c9b90fb721dbb3a75d04644afe2ea8d8852"
   }
  }
 },
 "nbformat": 4,
 "nbformat_minor": 2
}
