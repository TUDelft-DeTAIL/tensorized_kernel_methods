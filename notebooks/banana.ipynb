{
 "cells": [
  {
   "cell_type": "markdown",
   "metadata": {},
   "source": [
    "# Testing functionality of TKM and JAX"
   ]
  },
  {
   "cell_type": "code",
   "execution_count": 1,
   "metadata": {},
   "outputs": [],
   "source": [
    "%load_ext autoreload\n",
    "%autoreload 2"
   ]
  },
  {
   "cell_type": "code",
   "execution_count": 2,
   "metadata": {},
   "outputs": [],
   "source": [
    "!export XLA_PYTHON_CLIENT_MEM_FRACTION=.1"
   ]
  },
  {
   "cell_type": "code",
   "execution_count": 3,
   "metadata": {},
   "outputs": [],
   "source": [
    "import jax\n",
    "# cpu = jax.devices(\"cpu\")[0]\n",
    "# jax.default_device(cpu)"
   ]
  },
  {
   "cell_type": "code",
   "execution_count": 4,
   "metadata": {},
   "outputs": [],
   "source": [
    "# from jax.config import config\n",
    "# config.update(\"jax_enable_x64\", True)"
   ]
  },
  {
   "cell_type": "markdown",
   "metadata": {},
   "source": [
    "## Load Banana Data"
   ]
  },
  {
   "cell_type": "code",
   "execution_count": 5,
   "metadata": {},
   "outputs": [],
   "source": [
    "import pandas as pd\n",
    "from pathlib import Path"
   ]
  },
  {
   "cell_type": "code",
   "execution_count": 6,
   "metadata": {},
   "outputs": [],
   "source": [
    "data_path = Path(\"../data/banana.csv\")\n",
    "df_banana = pd.read_csv(data_path)"
   ]
  },
  {
   "cell_type": "code",
   "execution_count": 7,
   "metadata": {},
   "outputs": [
    {
     "data": {
      "text/html": [
       "<div>\n",
       "<style scoped>\n",
       "    .dataframe tbody tr th:only-of-type {\n",
       "        vertical-align: middle;\n",
       "    }\n",
       "\n",
       "    .dataframe tbody tr th {\n",
       "        vertical-align: top;\n",
       "    }\n",
       "\n",
       "    .dataframe thead th {\n",
       "        text-align: right;\n",
       "    }\n",
       "</style>\n",
       "<table border=\"1\" class=\"dataframe\">\n",
       "  <thead>\n",
       "    <tr style=\"text-align: right;\">\n",
       "      <th></th>\n",
       "      <th>V1</th>\n",
       "      <th>V2</th>\n",
       "      <th>Class</th>\n",
       "    </tr>\n",
       "  </thead>\n",
       "  <tbody>\n",
       "    <tr>\n",
       "      <th>0</th>\n",
       "      <td>1.140</td>\n",
       "      <td>-0.114</td>\n",
       "      <td>1</td>\n",
       "    </tr>\n",
       "    <tr>\n",
       "      <th>1</th>\n",
       "      <td>-1.520</td>\n",
       "      <td>-1.150</td>\n",
       "      <td>2</td>\n",
       "    </tr>\n",
       "    <tr>\n",
       "      <th>2</th>\n",
       "      <td>-1.050</td>\n",
       "      <td>0.720</td>\n",
       "      <td>1</td>\n",
       "    </tr>\n",
       "    <tr>\n",
       "      <th>3</th>\n",
       "      <td>-0.916</td>\n",
       "      <td>0.397</td>\n",
       "      <td>2</td>\n",
       "    </tr>\n",
       "    <tr>\n",
       "      <th>4</th>\n",
       "      <td>-1.090</td>\n",
       "      <td>0.437</td>\n",
       "      <td>2</td>\n",
       "    </tr>\n",
       "  </tbody>\n",
       "</table>\n",
       "</div>"
      ],
      "text/plain": [
       "      V1     V2  Class\n",
       "0  1.140 -0.114      1\n",
       "1 -1.520 -1.150      2\n",
       "2 -1.050  0.720      1\n",
       "3 -0.916  0.397      2\n",
       "4 -1.090  0.437      2"
      ]
     },
     "execution_count": 7,
     "metadata": {},
     "output_type": "execute_result"
    }
   ],
   "source": [
    "df_banana.head()"
   ]
  },
  {
   "cell_type": "code",
   "execution_count": 8,
   "metadata": {},
   "outputs": [
    {
     "data": {
      "text/html": [
       "<div>\n",
       "<style scoped>\n",
       "    .dataframe tbody tr th:only-of-type {\n",
       "        vertical-align: middle;\n",
       "    }\n",
       "\n",
       "    .dataframe tbody tr th {\n",
       "        vertical-align: top;\n",
       "    }\n",
       "\n",
       "    .dataframe thead th {\n",
       "        text-align: right;\n",
       "    }\n",
       "</style>\n",
       "<table border=\"1\" class=\"dataframe\">\n",
       "  <thead>\n",
       "    <tr style=\"text-align: right;\">\n",
       "      <th></th>\n",
       "      <th>V1</th>\n",
       "      <th>V2</th>\n",
       "      <th>Class</th>\n",
       "    </tr>\n",
       "  </thead>\n",
       "  <tbody>\n",
       "    <tr>\n",
       "      <th>0</th>\n",
       "      <td>1.140</td>\n",
       "      <td>-0.114</td>\n",
       "      <td>1</td>\n",
       "    </tr>\n",
       "    <tr>\n",
       "      <th>1</th>\n",
       "      <td>-1.520</td>\n",
       "      <td>-1.150</td>\n",
       "      <td>-1</td>\n",
       "    </tr>\n",
       "    <tr>\n",
       "      <th>2</th>\n",
       "      <td>-1.050</td>\n",
       "      <td>0.720</td>\n",
       "      <td>1</td>\n",
       "    </tr>\n",
       "    <tr>\n",
       "      <th>3</th>\n",
       "      <td>-0.916</td>\n",
       "      <td>0.397</td>\n",
       "      <td>-1</td>\n",
       "    </tr>\n",
       "    <tr>\n",
       "      <th>4</th>\n",
       "      <td>-1.090</td>\n",
       "      <td>0.437</td>\n",
       "      <td>-1</td>\n",
       "    </tr>\n",
       "  </tbody>\n",
       "</table>\n",
       "</div>"
      ],
      "text/plain": [
       "      V1     V2  Class\n",
       "0  1.140 -0.114      1\n",
       "1 -1.520 -1.150     -1\n",
       "2 -1.050  0.720      1\n",
       "3 -0.916  0.397     -1\n",
       "4 -1.090  0.437     -1"
      ]
     },
     "execution_count": 8,
     "metadata": {},
     "output_type": "execute_result"
    }
   ],
   "source": [
    "# expecting labels 1 and -1\n",
    "\n",
    "# transform label 2 to -1\n",
    "df_banana.loc[df_banana.Class == 2, 'Class'] = -1\n",
    "df_banana.head()"
   ]
  },
  {
   "cell_type": "code",
   "execution_count": 9,
   "metadata": {},
   "outputs": [],
   "source": [
    "# standardize\n",
    "\n",
    "# df_banana[['V1','V2']] = (df_banana[['V1','V2']] -  df_banana[['V1','V2']].min() )/ (df_banana[['V1','V2']].max() - df_banana[['V1','V2']].min())\n",
    "# df_banana.head()"
   ]
  },
  {
   "cell_type": "code",
   "execution_count": 10,
   "metadata": {},
   "outputs": [],
   "source": [
    "feature_names = ['V1', 'V2']\n",
    "x = df_banana[feature_names].to_numpy()\n",
    "\n",
    "label_name = ['Class']\n",
    "y = df_banana[label_name].to_numpy()"
   ]
  },
  {
   "cell_type": "code",
   "execution_count": 11,
   "metadata": {},
   "outputs": [],
   "source": [
    "# rescale\n",
    "\n",
    "x = (x - x.min(axis=0)) / (x.max(axis=0) - x.min(axis=0))"
   ]
  },
  {
   "cell_type": "markdown",
   "metadata": {},
   "source": [
    "### Data to JAX array"
   ]
  },
  {
   "cell_type": "code",
   "execution_count": 12,
   "metadata": {},
   "outputs": [],
   "source": [
    "from jax import numpy as jnp\n",
    "x = jnp.array(x)\n",
    "y = jnp.array(y)"
   ]
  },
  {
   "cell_type": "code",
   "execution_count": 13,
   "metadata": {},
   "outputs": [],
   "source": [
    "from jax import random\n",
    "key = random.PRNGKey(42)"
   ]
  },
  {
   "cell_type": "markdown",
   "metadata": {},
   "source": [
    "## Tensor Kernel Machine"
   ]
  },
  {
   "cell_type": "markdown",
   "metadata": {},
   "source": [
    "### Polynomial"
   ]
  },
  {
   "cell_type": "code",
   "execution_count": 27,
   "metadata": {},
   "outputs": [],
   "source": [
    "from tkm.model import TensorizedKernelMachine as TKM\n",
    "from jax import jit\n",
    "from tkm.features import polynomial\n",
    "\n",
    "model = TKM(M=12,R=6,feature_map=polynomial)"
   ]
  },
  {
   "cell_type": "code",
   "execution_count": 28,
   "metadata": {},
   "outputs": [],
   "source": [
    "W = model.fit(key,x,y) #,M=12,R=6,feature_map=polynomial)"
   ]
  },
  {
   "cell_type": "code",
   "execution_count": 29,
   "metadata": {},
   "outputs": [
    {
     "name": "stdout",
     "output_type": "stream",
     "text": [
      "7.93 ms ± 847 ns per loop (mean ± std. dev. of 7 runs, 100 loops each)\n"
     ]
    }
   ],
   "source": [
    "%timeit model.fit(key,x,y) #,M=12,R=6,feature_map=polynomial)"
   ]
  },
  {
   "cell_type": "code",
   "execution_count": 30,
   "metadata": {},
   "outputs": [
    {
     "data": {
      "text/plain": [
       "DeviceArray([[[-1.0057396e+04,  1.5561937e+04, -7.1854185e+03,\n",
       "                5.6509438e+04, -6.4147301e+04, -5.2884281e+04],\n",
       "              [ 2.3246876e+01, -5.7960121e+04, -1.4030002e+04,\n",
       "               -1.5576964e+05,  2.0631802e+05,  1.9556877e+05],\n",
       "              [ 4.9465035e+04,  2.5154791e+04,  4.7511727e+04,\n",
       "               -3.1814432e+04, -1.6083208e+04, -5.8015934e+04],\n",
       "              [-1.9818404e+04,  2.5021057e+04,  2.8232034e+03,\n",
       "                7.8497039e+04, -8.4285070e+04, -7.5874734e+04],\n",
       "              [ 1.4082094e+05,  2.4307215e+04,  9.7423570e+04,\n",
       "                7.6626414e+04, -2.1045316e+05, -1.8981380e+05],\n",
       "              [-1.3582805e+05, -6.1180047e+04, -1.0620028e+05,\n",
       "                2.6990828e+03,  1.6952028e+05,  1.7967295e+05],\n",
       "              [-3.1671088e+04,  5.3115542e+03,  2.8828762e+04,\n",
       "               -9.0663711e+04,  6.2701000e+04, -4.2626758e+03],\n",
       "              [ 4.0503379e+04,  4.2725684e+04,  5.4076359e+04,\n",
       "                5.6085547e+04, -9.4985039e+04, -8.5459648e+04],\n",
       "              [ 3.5200359e+04,  4.5448605e+04,  1.4175618e+04,\n",
       "                3.6098074e+04, -9.1139312e+04, -7.8486094e+04],\n",
       "              [ 3.0708922e+04, -6.1855164e+04,  1.2796132e+04,\n",
       "               -1.4714966e+05,  1.7614708e+05,  1.5166286e+05],\n",
       "              [-6.8175156e+04,  1.1582186e+03, -4.8077688e+04,\n",
       "                3.2537902e+04,  5.4752869e+02,  1.7877117e+04],\n",
       "              [ 7.9940266e+04, -5.7570695e+04,  3.2598957e+04,\n",
       "               -1.9668177e+05,  2.1066525e+05,  1.6832375e+05]],\n",
       "\n",
       "             [[-7.6672388e-04,  2.4250515e-03, -6.9798948e-04,\n",
       "               -3.3559690e-03, -3.1654492e-03,  9.6231088e-04],\n",
       "              [-9.8631801e-03, -1.0028040e-02,  4.5684492e-04,\n",
       "               -6.9792271e-03, -4.7540357e-03,  9.2912151e-04],\n",
       "              [ 7.5800898e-03,  5.1826369e-03,  1.0044898e-02,\n",
       "               -1.3383557e-03, -9.2613297e-03, -5.1102662e-03],\n",
       "              [ 6.8345638e-03, -1.3750013e-02, -1.3303083e-03,\n",
       "                2.0442488e-02, -3.0547965e-03,  2.9510174e-02],\n",
       "              [ 1.1712865e-02,  1.6468139e-02, -1.2511575e-03,\n",
       "                4.7738836e-03,  1.4539101e-02,  9.8611005e-03],\n",
       "              [ 9.3731880e-03,  2.4964804e-02,  8.0706682e-03,\n",
       "                2.5244093e-02,  1.7077630e-02, -7.5593782e-03],\n",
       "              [ 6.2279711e-03,  1.9869627e-02, -2.2962978e-03,\n",
       "                5.7362001e-03,  7.6903100e-03,  4.4687050e-03],\n",
       "              [-8.8458629e-03,  8.8179177e-03,  9.1568017e-03,\n",
       "                3.8825041e-03,  9.4575929e-03, -7.8641204e-03],\n",
       "              [-1.0837665e-03,  2.0176362e-02, -1.8958753e-03,\n",
       "                1.3721595e-02, -4.2480681e-04, -5.1526376e-03],\n",
       "              [-1.7907036e-02,  1.2590940e-03,  1.0230202e-02,\n",
       "               -1.5089409e-02,  5.3445352e-03, -8.2278801e-03],\n",
       "              [ 1.0038725e-02, -3.5754968e-03,  3.2810916e-03,\n",
       "               -1.1692959e-02,  5.2376231e-03,  9.4728908e-03],\n",
       "              [ 1.6051412e-02,  3.2860129e-03, -3.9224881e-03,\n",
       "                2.9192302e-02,  2.1324134e-03,  1.1912894e-02]]],            dtype=float32)"
      ]
     },
     "execution_count": 30,
     "metadata": {},
     "output_type": "execute_result"
    }
   ],
   "source": [
    "import jmp\n",
    "\n",
    "half_policy = jmp.get_policy('half')\n",
    "\n",
    "model_half = TKM(M=12,R=6,feature_map=polynomial, policy=half_policy)\n",
    "x_half, y_half = half_policy.cast_to_param((x,y))\n",
    "\n",
    "model_half.fit(key,x,y)"
   ]
  },
  {
   "cell_type": "code",
   "execution_count": 22,
   "metadata": {},
   "outputs": [],
   "source": [
    "fit_polynomial_half = partial(fit, feature_map=polynomial, M=12, R=6, policy=half_policy)"
   ]
  },
  {
   "cell_type": "code",
   "execution_count": 24,
   "metadata": {},
   "outputs": [],
   "source": [
    "fit_compiled_half = jit(fit_polynomial_half)"
   ]
  },
  {
   "cell_type": "code",
   "execution_count": 27,
   "metadata": {},
   "outputs": [
    {
     "name": "stdout",
     "output_type": "stream",
     "text": [
      "7.87 ms ± 15 µs per loop (mean ± std. dev. of 7 runs, 100 loops each)\n"
     ]
    }
   ],
   "source": [
    "%timeit fit_compiled_half(key, x_half, y_half).block_until_ready()"
   ]
  },
  {
   "cell_type": "markdown",
   "metadata": {},
   "source": [
    "#### Predict"
   ]
  },
  {
   "cell_type": "code",
   "execution_count": 20,
   "metadata": {},
   "outputs": [
    {
     "data": {
      "text/plain": [
       "DeviceArray(0.8918868, dtype=float32)"
      ]
     },
     "execution_count": 20,
     "metadata": {},
     "output_type": "execute_result"
    }
   ],
   "source": [
    "from tkm.metrics import accuracy\n",
    "\n",
    "y_hat = model.predict(x, W) #, feature_map=polynomial, M=12,R=6)\n",
    "acc = accuracy(y.squeeze(), y_hat)\n",
    "acc"
   ]
  },
  {
   "cell_type": "code",
   "execution_count": 21,
   "metadata": {},
   "outputs": [
    {
     "name": "stdout",
     "output_type": "stream",
     "text": [
      "1.7 ms ± 7.15 µs per loop (mean ± std. dev. of 7 runs, 1,000 loops each)\n"
     ]
    }
   ],
   "source": [
    "%timeit model.predict(x, W) #, M=12,R=6, feature_map=polynomial)"
   ]
  },
  {
   "cell_type": "code",
   "execution_count": 25,
   "metadata": {},
   "outputs": [
    {
     "name": "stdout",
     "output_type": "stream",
     "text": [
      "0.8918868\n",
      "4.21 ms ± 22 µs per loop (mean ± std. dev. of 7 runs, 100 loops each)\n"
     ]
    }
   ],
   "source": [
    "# from jax import jit\n",
    "# from tkm.model import predict_vmap\n",
    "\n",
    "y_hat = model.predict_vmap(x, W, feature_map=polynomial, M=12, R=6)\n",
    "acc = accuracy(y.squeeze(), y_hat)\n",
    "print(acc)\n",
    "\n",
    "%timeit model.predict_vmap(x, W, feature_map=polynomial, M=12, R=6)"
   ]
  },
  {
   "cell_type": "code",
   "execution_count": 27,
   "metadata": {},
   "outputs": [
    {
     "name": "stdout",
     "output_type": "stream",
     "text": [
      "1.7 ms ± 7.71 µs per loop (mean ± std. dev. of 7 runs, 1,000 loops each)\n"
     ]
    }
   ],
   "source": [
    "from functools import partial\n",
    "\n",
    "predict_vmap_poly = partial(model.predict_vmap, feature_map=polynomial, M=12, R=6)\n",
    "predict_vmap_compiled = jit(predict_vmap_poly)\n",
    "\n",
    "%timeit predict_vmap_compiled(x,W).block_until_ready()"
   ]
  },
  {
   "cell_type": "markdown",
   "metadata": {},
   "source": [
    "#### fourier features"
   ]
  },
  {
   "cell_type": "code",
   "execution_count": 28,
   "metadata": {},
   "outputs": [
    {
     "name": "stdout",
     "output_type": "stream",
     "text": [
      "0.8945283\n"
     ]
    }
   ],
   "source": [
    "from tkm.model import TensorizedKernelMachine\n",
    "from tkm.features import fourier\n",
    "\n",
    "model_fourier = TensorizedKernelMachine(M=12,R=6,lengthscale=0.5,feature_map=fourier)\n",
    "W = model_fourier.fit(key,x,y)\n",
    "y_hat = model_fourier.predict(x, W)\n",
    "acc = accuracy(y.squeeze(), y_hat)\n",
    "print(acc)"
   ]
  },
  {
   "cell_type": "code",
   "execution_count": 29,
   "metadata": {},
   "outputs": [
    {
     "data": {
      "text/plain": [
       "[CpuDevice(id=0)]"
      ]
     },
     "execution_count": 29,
     "metadata": {},
     "output_type": "execute_result"
    }
   ],
   "source": [
    "jax.devices()"
   ]
  },
  {
   "cell_type": "markdown",
   "metadata": {},
   "source": [
    "## batched dotkron"
   ]
  },
  {
   "cell_type": "code",
   "execution_count": 31,
   "metadata": {},
   "outputs": [],
   "source": [
    "from tkm.model import TensorizedKernelMachine \n",
    "\n",
    "model_batch = TensorizedKernelMachine(M=12,R=6,feature_map=polynomial,batch_size=10)\n",
    "W_batch = model_batch.fit(key,x,y) #,M=12,R=6,feature_map=polynomial)"
   ]
  },
  {
   "cell_type": "code",
   "execution_count": 32,
   "metadata": {},
   "outputs": [],
   "source": [
    "y_hat = model_batch.predict(x,W_batch)"
   ]
  }
 ],
 "metadata": {
  "kernelspec": {
   "display_name": "Python 3.8.10 ('venv': venv)",
   "language": "python",
   "name": "python3"
  },
  "language_info": {
   "codemirror_mode": {
    "name": "ipython",
    "version": 3
   },
   "file_extension": ".py",
   "mimetype": "text/x-python",
   "name": "python",
   "nbconvert_exporter": "python",
   "pygments_lexer": "ipython3",
   "version": "3.8.10"
  },
  "orig_nbformat": 4,
  "vscode": {
   "interpreter": {
    "hash": "d3287febf238b10938fe1246dc666c9b90fb721dbb3a75d04644afe2ea8d8852"
   }
  }
 },
 "nbformat": 4,
 "nbformat_minor": 2
}
