{
 "cells": [
  {
   "cell_type": "code",
   "execution_count": 1,
   "metadata": {},
   "outputs": [],
   "source": [
    "%load_ext autoreload\n",
    "%autoreload 2"
   ]
  },
  {
   "cell_type": "code",
   "execution_count": 2,
   "metadata": {},
   "outputs": [],
   "source": [
    "from jax import numpy as jnp"
   ]
  },
  {
   "cell_type": "code",
   "execution_count": 6,
   "metadata": {},
   "outputs": [],
   "source": [
    "from jax import random\n",
    "key = random.PRNGKey(42)\n",
    "\n",
    "D = 2\n",
    "M = 8\n",
    "R = 10\n",
    "W = random.normal(key, shape=(D,M,R))"
   ]
  },
  {
   "cell_type": "code",
   "execution_count": 7,
   "metadata": {},
   "outputs": [
    {
     "data": {
      "text/plain": [
       "(8, 10)"
      ]
     },
     "execution_count": 7,
     "metadata": {},
     "output_type": "execute_result"
    }
   ],
   "source": [
    "W[0].shape"
   ]
  },
  {
   "cell_type": "code",
   "execution_count": 8,
   "metadata": {},
   "outputs": [
    {
     "name": "stdout",
     "output_type": "stream",
     "text": [
      "2.3 ms ± 14.7 µs per loop (mean ± std. dev. of 7 runs, 100 loops each)\n"
     ]
    }
   ],
   "source": [
    "%timeit W[0] @ W[0].T"
   ]
  },
  {
   "cell_type": "code",
   "execution_count": 9,
   "metadata": {},
   "outputs": [
    {
     "name": "stdout",
     "output_type": "stream",
     "text": [
      "2.37 ms ± 79.9 µs per loop (mean ± std. dev. of 7 runs, 100 loops each)\n"
     ]
    }
   ],
   "source": [
    "%timeit jnp.dot(W[0], W[0].T)"
   ]
  },
  {
   "cell_type": "code",
   "execution_count": 23,
   "metadata": {},
   "outputs": [],
   "source": [
    "reg = jnp.ones((R,R))\n",
    "\n",
    "W = random.normal(key, shape=(D,M,R))\n",
    "\n",
    "reg *= jnp.dot(W[1].T, W[1])"
   ]
  },
  {
   "cell_type": "code",
   "execution_count": 24,
   "metadata": {},
   "outputs": [
    {
     "data": {
      "text/plain": [
       "DeviceArray([[10.472877  ,  2.1634684 ,  1.8259398 ,  2.998856  ,\n",
       "              -4.078107  , -1.8218795 , -0.7573281 ,  0.42361373,\n",
       "              -0.7675868 ,  2.695261  ],\n",
       "             [ 2.1634684 ,  4.092049  ,  2.0903633 ,  0.4909489 ,\n",
       "              -4.6681037 , -1.7279721 , -0.706576  , -1.2958506 ,\n",
       "              -2.7669683 , -1.8912007 ],\n",
       "             [ 1.8259398 ,  2.0903633 ,  7.2151275 , -2.1220875 ,\n",
       "               2.914107  , -3.8662233 ,  1.044636  , -0.3260084 ,\n",
       "              -5.878888  ,  1.1603925 ],\n",
       "             [ 2.998856  ,  0.4909489 , -2.1220875 ,  7.8024697 ,\n",
       "              -3.1010823 , -2.6626341 , -2.8245208 ,  0.47037816,\n",
       "              -1.0786489 ,  2.2232282 ],\n",
       "             [-4.078107  , -4.6681037 ,  2.914107  , -3.1010823 ,\n",
       "              17.220627  ,  1.680552  ,  3.5457404 ,  2.077625  ,\n",
       "               0.6772353 ,  4.780658  ],\n",
       "             [-1.8218795 , -1.7279721 , -3.8662233 , -2.6626341 ,\n",
       "               1.680552  ,  6.0490055 , -0.11766604, -0.35652307,\n",
       "               5.9354253 , -2.134957  ],\n",
       "             [-0.7573281 , -0.706576  ,  1.044636  , -2.8245208 ,\n",
       "               3.5457404 , -0.11766604, 12.093727  ,  1.1507279 ,\n",
       "              -1.6865432 ,  6.337651  ],\n",
       "             [ 0.42361373, -1.2958506 , -0.3260084 ,  0.47037816,\n",
       "               2.077625  , -0.35652307,  1.1507279 ,  1.0391773 ,\n",
       "               0.5057483 ,  1.9722055 ],\n",
       "             [-0.7675868 , -2.7669683 , -5.878888  , -1.0786489 ,\n",
       "               0.6772353 ,  5.9354253 , -1.6865432 ,  0.5057483 ,\n",
       "               7.749334  , -1.9057155 ],\n",
       "             [ 2.695261  , -1.8912007 ,  1.1603925 ,  2.2232282 ,\n",
       "               4.780658  , -2.134957  ,  6.337651  ,  1.9722055 ,\n",
       "              -1.9057155 ,  7.609128  ]], dtype=float32)"
      ]
     },
     "execution_count": 24,
     "metadata": {},
     "output_type": "execute_result"
    }
   ],
   "source": [
    "reg "
   ]
  },
  {
   "cell_type": "code",
   "execution_count": 8,
   "metadata": {},
   "outputs": [],
   "source": [
    "from tkm.utils import dotkron\n",
    "from jax import jit\n",
    "\n",
    "N,D = 5300, 2\n",
    "M = 8\n",
    "R = 10\n",
    "\n",
    "Mati = random.normal(key,(N,M))\n",
    "Matd = random.normal(key,(N,R))\n"
   ]
  },
  {
   "cell_type": "code",
   "execution_count": 27,
   "metadata": {},
   "outputs": [
    {
     "name": "stdout",
     "output_type": "stream",
     "text": [
      "CPU times: user 11.3 s, sys: 145 ms, total: 11.5 s\n",
      "Wall time: 11.6 s\n"
     ]
    }
   ],
   "source": [
    "%time C = dotkron(Mati,Matd)"
   ]
  },
  {
   "cell_type": "code",
   "execution_count": 6,
   "metadata": {},
   "outputs": [],
   "source": [
    "from jax import jit \n",
    "\n",
    "dotkron_compiled = jit(dotkron)"
   ]
  },
  {
   "cell_type": "code",
   "execution_count": 29,
   "metadata": {},
   "outputs": [],
   "source": [
    "%time dotkron_compiled(Mati,Matd)"
   ]
  },
  {
   "cell_type": "code",
   "execution_count": 10,
   "metadata": {},
   "outputs": [],
   "source": [
    "from tkm.utils import vmap_dotkron"
   ]
  },
  {
   "cell_type": "code",
   "execution_count": 16,
   "metadata": {},
   "outputs": [
    {
     "name": "stdout",
     "output_type": "stream",
     "text": [
      "CPU times: user 10.5 s, sys: 110 ms, total: 10.6 s\n",
      "Wall time: 10.7 s\n"
     ]
    }
   ],
   "source": [
    "%time c = dotkron(Mati,Matd)"
   ]
  },
  {
   "cell_type": "code",
   "execution_count": 14,
   "metadata": {},
   "outputs": [
    {
     "name": "stdout",
     "output_type": "stream",
     "text": [
      "639 µs ± 5.18 µs per loop (mean ± std. dev. of 7 runs, 1,000 loops each)\n"
     ]
    }
   ],
   "source": [
    "%timeit C = vmap_dotkron(Mati,Matd)"
   ]
  },
  {
   "cell_type": "code",
   "execution_count": 11,
   "metadata": {},
   "outputs": [
    {
     "data": {
      "text/plain": [
       "(5300, 80)"
      ]
     },
     "execution_count": 11,
     "metadata": {},
     "output_type": "execute_result"
    }
   ],
   "source": [
    "C.shape"
   ]
  },
  {
   "cell_type": "code",
   "execution_count": 12,
   "metadata": {},
   "outputs": [],
   "source": [
    "vmap_dotkron_compiled = jit(vmap_dotkron)\n"
   ]
  },
  {
   "cell_type": "code",
   "execution_count": 13,
   "metadata": {},
   "outputs": [
    {
     "name": "stdout",
     "output_type": "stream",
     "text": [
      "126 µs ± 5.28 µs per loop (mean ± std. dev. of 7 runs, 10,000 loops each)\n"
     ]
    }
   ],
   "source": [
    "%timeit C_ = vmap_dotkron_compiled(Mati,Matd)"
   ]
  },
  {
   "cell_type": "code",
   "execution_count": 17,
   "metadata": {},
   "outputs": [
    {
     "data": {
      "text/plain": [
       "DeviceArray([[ True,  True,  True, ...,  True,  True,  True],\n",
       "             [ True,  True,  True, ...,  True,  True,  True],\n",
       "             [ True,  True,  True, ...,  True,  True,  True],\n",
       "             ...,\n",
       "             [ True,  True,  True, ...,  True,  True,  True],\n",
       "             [ True,  True,  True, ...,  True,  True,  True],\n",
       "             [ True,  True,  True, ...,  True,  True,  True]], dtype=bool)"
      ]
     },
     "execution_count": 17,
     "metadata": {},
     "output_type": "execute_result"
    }
   ],
   "source": [
    "jnp.equal(c,C)"
   ]
  },
  {
   "cell_type": "code",
   "execution_count": 19,
   "metadata": {},
   "outputs": [
    {
     "data": {
      "text/plain": [
       "DeviceArray(1., dtype=float32)"
      ]
     },
     "execution_count": 19,
     "metadata": {},
     "output_type": "execute_result"
    }
   ],
   "source": [
    "jnp.equal(c,C_).sum()/C_.size"
   ]
  },
  {
   "cell_type": "code",
   "execution_count": 21,
   "metadata": {},
   "outputs": [],
   "source": [
    "x = random.normal(key, (5300,2))"
   ]
  },
  {
   "cell_type": "code",
   "execution_count": 25,
   "metadata": {},
   "outputs": [
    {
     "data": {
      "text/plain": [
       "(5300, 8)"
      ]
     },
     "execution_count": 25,
     "metadata": {},
     "output_type": "execute_result"
    }
   ],
   "source": [
    "jnp.power(x[:,0, None], jnp.arange(M)).shape"
   ]
  },
  {
   "cell_type": "code",
   "execution_count": 29,
   "metadata": {},
   "outputs": [],
   "source": [
    "from tkm.features import polynomial\n",
    "from functools import partial\n",
    "polynomial_compiled = jit(partial(polynomial, M=M))"
   ]
  },
  {
   "cell_type": "code",
   "execution_count": 65,
   "metadata": {},
   "outputs": [
    {
     "name": "stdout",
     "output_type": "stream",
     "text": [
      "2.34 ms ± 104 µs per loop (mean ± std. dev. of 7 runs, 100 loops each)\n",
      "1.59 ms ± 10.9 µs per loop (mean ± std. dev. of 7 runs, 1,000 loops each)\n"
     ]
    }
   ],
   "source": [
    "%timeit polynomial(x[:,0],M)\n",
    "%timeit polynomial_compiled(x[:,0])"
   ]
  },
  {
   "cell_type": "code",
   "execution_count": 36,
   "metadata": {},
   "outputs": [
    {
     "name": "stdout",
     "output_type": "stream",
     "text": [
      "2.39 ms ± 107 µs per loop (mean ± std. dev. of 7 runs, 100 loops each)\n"
     ]
    }
   ],
   "source": [
    "from tkm.features import polynomial_\n",
    "polynomial_compiled_ = jit(polynomial_)"
   ]
  },
  {
   "cell_type": "code",
   "execution_count": 66,
   "metadata": {},
   "outputs": [
    {
     "name": "stdout",
     "output_type": "stream",
     "text": [
      "2.41 ms ± 95 µs per loop (mean ± std. dev. of 7 runs, 100 loops each)\n",
      "2.23 ms ± 328 µs per loop (mean ± std. dev. of 7 runs, 100 loops each)\n"
     ]
    }
   ],
   "source": [
    "%timeit polynomial_(x[:,0],jnp.arange(M))\n",
    "%timeit polynomial_compiled_(x[:,0],jnp.arange(M))"
   ]
  },
  {
   "cell_type": "code",
   "execution_count": 53,
   "metadata": {},
   "outputs": [
    {
     "name": "stdout",
     "output_type": "stream",
     "text": [
      "2.68 ms ± 93.8 µs per loop (mean ± std. dev. of 7 runs, 100 loops each)\n"
     ]
    }
   ],
   "source": [
    "from tkm.features import polynomial_vmap\n",
    "\n",
    "%timeit pv = polynomial_vmap(x[:,0],jnp.arange(M))"
   ]
  },
  {
   "cell_type": "code",
   "execution_count": 56,
   "metadata": {},
   "outputs": [
    {
     "data": {
      "text/plain": [
       "(5300, 8)"
      ]
     },
     "execution_count": 56,
     "metadata": {},
     "output_type": "execute_result"
    }
   ],
   "source": [
    "pv = polynomial_vmap(x[:,0],jnp.arange(M))\n",
    "pv.shape"
   ]
  },
  {
   "cell_type": "code",
   "execution_count": 58,
   "metadata": {},
   "outputs": [],
   "source": [
    "polynomial_vmap_compiled = jit(partial(polynomial_vmap,rangeM=jnp.arange(M)))"
   ]
  },
  {
   "cell_type": "code",
   "execution_count": 59,
   "metadata": {},
   "outputs": [
    {
     "name": "stdout",
     "output_type": "stream",
     "text": [
      "1.59 ms ± 8.42 µs per loop (mean ± std. dev. of 7 runs, 1,000 loops each)\n"
     ]
    }
   ],
   "source": [
    "%timeit polynomial_vmap_compiled(x[:,0])"
   ]
  },
  {
   "cell_type": "code",
   "execution_count": 69,
   "metadata": {},
   "outputs": [],
   "source": [
    "from tkm.features import compile_feature_map\n",
    "\n",
    "poly = compile_feature_map(M=M)"
   ]
  },
  {
   "cell_type": "code",
   "execution_count": 70,
   "metadata": {},
   "outputs": [
    {
     "name": "stdout",
     "output_type": "stream",
     "text": [
      "1.59 ms ± 21.8 µs per loop (mean ± std. dev. of 7 runs, 1,000 loops each)\n"
     ]
    }
   ],
   "source": [
    "%timeit poly(x[:,0])"
   ]
  },
  {
   "cell_type": "markdown",
   "metadata": {},
   "source": [
    "# predict"
   ]
  },
  {
   "cell_type": "code",
   "execution_count": 76,
   "metadata": {},
   "outputs": [
    {
     "data": {
      "text/plain": [
       "(5300,)"
      ]
     },
     "execution_count": 76,
     "metadata": {},
     "output_type": "execute_result"
    }
   ],
   "source": [
    "X = x\n",
    "N, D = X.shape\n",
    "M = W[0].shape[0]\n",
    "score = jnp.ones((N,1))\n",
    "\n",
    "for d in range(D): #TODO JAX vmap?\n",
    "    score *= jnp.dot(\n",
    "        polynomial(X[:,d],M) , \n",
    "        W[d]\n",
    "    )\n",
    "\n",
    "score = jnp.sum(score, 1)\n",
    "score.shape"
   ]
  },
  {
   "cell_type": "code",
   "execution_count": 90,
   "metadata": {},
   "outputs": [
    {
     "data": {
      "text/plain": [
       "(2, 5300, 10)"
      ]
     },
     "execution_count": 90,
     "metadata": {},
     "output_type": "execute_result"
    }
   ],
   "source": [
    "from jax import vmap\n",
    "from tkm.features import compile_feature_map\n",
    "\n",
    "poly = compile_feature_map(M=8)\n",
    "\n",
    "s = vmap(lambda x,y :jnp.dot(poly(x),y), (1,0),)(X, W)\n",
    "s.shape"
   ]
  },
  {
   "cell_type": "code",
   "execution_count": 78,
   "metadata": {},
   "outputs": [
    {
     "data": {
      "text/plain": [
       "(2, 8, 10)"
      ]
     },
     "execution_count": 78,
     "metadata": {},
     "output_type": "execute_result"
    }
   ],
   "source": [
    "W.shape"
   ]
  },
  {
   "cell_type": "code",
   "execution_count": 96,
   "metadata": {},
   "outputs": [],
   "source": [
    "sc = s.prod(0)"
   ]
  },
  {
   "cell_type": "code",
   "execution_count": 97,
   "metadata": {},
   "outputs": [],
   "source": [
    "sco = sc.sum(1)"
   ]
  },
  {
   "cell_type": "code",
   "execution_count": 98,
   "metadata": {},
   "outputs": [
    {
     "data": {
      "text/plain": [
       "DeviceArray(1., dtype=float32)"
      ]
     },
     "execution_count": 98,
     "metadata": {},
     "output_type": "execute_result"
    }
   ],
   "source": [
    "jnp.equal(score,sco).sum() / score.size"
   ]
  },
  {
   "cell_type": "code",
   "execution_count": null,
   "metadata": {},
   "outputs": [],
   "source": [
    "# from tkm.model import predict"
   ]
  }
 ],
 "metadata": {
  "interpreter": {
   "hash": "52117102878ae16c1c4b5e8e87a1ad64fac10701e1a16851a8bd870ef4e85973"
  },
  "kernelspec": {
   "display_name": "Python 3.9.5 ('venv': venv)",
   "language": "python",
   "name": "python3"
  },
  "language_info": {
   "codemirror_mode": {
    "name": "ipython",
    "version": 3
   },
   "file_extension": ".py",
   "mimetype": "text/x-python",
   "name": "python",
   "nbconvert_exporter": "python",
   "pygments_lexer": "ipython3",
   "version": "3.9.15"
  },
  "orig_nbformat": 4
 },
 "nbformat": 4,
 "nbformat_minor": 2
}
